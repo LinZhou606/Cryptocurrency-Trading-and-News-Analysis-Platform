{
 "cells": [
  {
   "cell_type": "markdown",
   "id": "185e4e28",
   "metadata": {},
   "source": [
    "# Load 2,134 JSON files for news data all at once."
   ]
  },
  {
   "cell_type": "markdown",
   "id": "03885818",
   "metadata": {},
   "source": [
    "### Install pymongo"
   ]
  },
  {
   "cell_type": "code",
   "execution_count": 1,
   "id": "8818b5e4",
   "metadata": {},
   "outputs": [
    {
     "name": "stdout",
     "output_type": "stream",
     "text": [
      "Requirement already satisfied: pymongo in /Applications/anaconda3/lib/python3.9/site-packages (4.6.2)\n",
      "Requirement already satisfied: dnspython<3.0.0,>=1.16.0 in /Applications/anaconda3/lib/python3.9/site-packages (from pymongo) (2.6.1)\n",
      "Note: you may need to restart the kernel to use updated packages.\n"
     ]
    }
   ],
   "source": [
    "pip install pymongo"
   ]
  },
  {
   "cell_type": "markdown",
   "id": "dd897a5e",
   "metadata": {},
   "source": [
    "### Import the necessary libraries"
   ]
  },
  {
   "cell_type": "code",
   "execution_count": 2,
   "id": "dca1441f",
   "metadata": {},
   "outputs": [],
   "source": [
    "# pymongo for interacting with MongoDB\n",
    "import pymongo\n",
    "# json for handling JSON files\n",
    "import json\n",
    "# os for operating system dependent functionality.\n",
    "import os"
   ]
  },
  {
   "cell_type": "markdown",
   "id": "de7e751c",
   "metadata": {},
   "source": [
    "### Establish a connection to the MongoDB server, then access the database and collection"
   ]
  },
  {
   "cell_type": "code",
   "execution_count": 3,
   "id": "0f40ebe1",
   "metadata": {},
   "outputs": [],
   "source": [
    "client = pymongo.MongoClient(\"mongodb://localhost:27017/\") \n",
    "db = client[\"GROUP8_NEWS\"]\n",
    "collection = db[\"Group8\"]"
   ]
  },
  {
   "cell_type": "markdown",
   "id": "72a002d6",
   "metadata": {},
   "source": [
    "### Load news data into MongoDB"
   ]
  },
  {
   "cell_type": "code",
   "execution_count": 4,
   "id": "d4f7db81",
   "metadata": {},
   "outputs": [
    {
     "name": "stdout",
     "output_type": "stream",
     "text": [
      "All JSON files have been successfully imported into MongoDB.\n"
     ]
    }
   ],
   "source": [
    "# Set the directory path where JSON files are located.\n",
    "json_dir = '/Users/chenyongting/Desktop/哥大/2024Spring/APAN5400/Group Project/News/news_data' \n",
    "\n",
    "# Traverse all JSON files in a specified directory.\n",
    "for json_file in os.listdir(json_dir):\n",
    "    if json_file.endswith('.json'):\n",
    "        file_path = os.path.join(json_dir, json_file)\n",
    "        \n",
    "        # Read the contents of a JSON file\n",
    "        with open(file_path, 'r') as file:\n",
    "            data = json.load(file)  # Load JSON data\n",
    "            \n",
    "            # Determine whether the data is a single dictionary or a list\n",
    "            if isinstance(data, list):\n",
    "                # If it is a list, it contains multiple documents\n",
    "                collection.insert_many(data)\n",
    "            else:\n",
    "                # If it is a single dictionary, insert a single document\n",
    "                collection.insert_one(data)\n",
    "\n",
    "# Print a confirmation message once all files are successfully imported.\n",
    "print(\"All JSON files have been successfully imported into MongoDB.\")"
   ]
  }
 ],
 "metadata": {
  "kernelspec": {
   "display_name": "Python 3 (ipykernel)",
   "language": "python",
   "name": "python3"
  },
  "language_info": {
   "codemirror_mode": {
    "name": "ipython",
    "version": 3
   },
   "file_extension": ".py",
   "mimetype": "text/x-python",
   "name": "python",
   "nbconvert_exporter": "python",
   "pygments_lexer": "ipython3",
   "version": "3.9.7"
  }
 },
 "nbformat": 4,
 "nbformat_minor": 5
}
